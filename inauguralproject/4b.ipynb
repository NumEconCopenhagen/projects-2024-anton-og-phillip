{
 "cells": [
  {
   "cell_type": "code",
   "execution_count": 19,
   "metadata": {},
   "outputs": [
    {
     "name": "stdout",
     "output_type": "stream",
     "text": [
      "Consumer A's best price for good 1 (best p1): 1.8990000000000018\n",
      "Consumer A's utility given p1 (best p1): 0.6336208470908343\n",
      "Allocation of x1a: 0.620923292961208\n",
      "Allocation of x2a: 0.6400666666666666\n",
      "Allocation of x1b: 0.37907670703879204\n",
      "Allocation of x2b: 0.3599333333333335\n"
     ]
    }
   ],
   "source": [
    "import numpy as np\n",
    "import matplotlib.pyplot as plt\n",
    "plt.rcParams.update({\"axes.grid\":True,\"grid.color\":\"black\",\"grid.alpha\":\"0.25\",\"grid.linestyle\":\"--\"})\n",
    "plt.rcParams.update({'font.size': 14})\n",
    "from scipy.optimize import minimize\n",
    "\n",
    "# autoreload modules when code is run. Otherwise, python will not see recent changes. \n",
    "%load_ext autoreload\n",
    "%autoreload 2\n",
    "\n",
    "# Import our class\n",
    "from fireb import ExchangeEconomyClass\n",
    "\n",
    "# We now define our model \n",
    "model = ExchangeEconomyClass()\n",
    "\n",
    "par = model.par\n",
    "\n",
    "\n",
    "\n",
    "# We do the same as in question 4.a, but we define a new range of p1 values, called p1_values_4b\n",
    "p1_values_4b = np.arange(0.1, 100, 1/1000)\n",
    "\n",
    "# Define the variables max_utility_4b and best_price_4b\n",
    "max_utility_4b = float('-inf')  # We start out with a very low number\n",
    "best_price_4b = None\n",
    "\n",
    "# Loop through different prices for p1 in p1_values_4b\n",
    "for p1 in p1_values_4b:\n",
    "    x1B = model.demand_B1(p1)\n",
    "    x2B = model.demand_B2(p1)\n",
    "    x1A = max(0, 1 - x1B)  # Ensure good1 is non-negative\n",
    "    x2A = max(0, 1 - x2B)  # Ensure good2 is non-negative\n",
    "    util_A = model.utility_A(x1A,x2A)\n",
    "    \n",
    "    # We save the p1 that yields the highest utility found within the loop\n",
    "    if util_A > max_utility_4b:\n",
    "        max_utility_4b = util_A\n",
    "        best_price_4b = p1    \n",
    "\n",
    "# Given the best price, we now find consumer A and B's demand for good 1 and 2\n",
    "allocation_x1a_4b = 1 - model.demand_B1(best_price_4b)\n",
    "allocation_x2a_4b = 1 - model.demand_B2(best_price_4b)\n",
    "allocation_x1b_4b = model.demand_B1(best_price_4b)\n",
    "allocation_x2b_4b = model.demand_B2(best_price_4b)\n",
    "\n",
    "# We print the best price (the p1 that yields the highest utility for consumer A), consumer A's utility and consumer A's demand for good 1 and 2\n",
    "print(\"Consumer A's best price for good 1 (best p1):\", best_price_4b)\n",
    "print(\"Consumer A's utility given p1 (best p1):\", max_utility_4b)\n",
    "print(\"Allocation of x1a:\", allocation_x1a_4b)\n",
    "print(\"Allocation of x2a:\", allocation_x2a_4b)\n",
    "print(\"Allocation of x1b:\", allocation_x1b_4b)\n",
    "print(\"Allocation of x2b:\", allocation_x2b_4b)\n",
    "\n"
   ]
  }
 ],
 "metadata": {
  "kernelspec": {
   "display_name": "base",
   "language": "python",
   "name": "python3"
  },
  "language_info": {
   "codemirror_mode": {
    "name": "ipython",
    "version": 3
   },
   "file_extension": ".py",
   "mimetype": "text/x-python",
   "name": "python",
   "nbconvert_exporter": "python",
   "pygments_lexer": "ipython3",
   "version": "3.9.18"
  }
 },
 "nbformat": 4,
 "nbformat_minor": 2
}
