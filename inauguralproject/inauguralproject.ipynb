{
 "cells": [
  {
   "cell_type": "markdown",
   "metadata": {},
   "source": [
    "# Inaugural Project"
   ]
  },
  {
   "attachments": {},
   "cell_type": "markdown",
   "metadata": {},
   "source": [
    "> **Note the following:** \n",
    "> 1. This is an example of how to structure your **inaugural project**.\n",
    "> 1. Remember the general advice on structuring and commenting your code\n",
    "> 1. The `inauguralproject.py` file includes a function which can be used multiple times in this notebook."
   ]
  },
  {
   "cell_type": "markdown",
   "metadata": {},
   "source": [
    "Imports and set magics:"
   ]
  },
  {
   "cell_type": "code",
   "execution_count": 21,
   "metadata": {},
   "outputs": [
    {
     "name": "stdout",
     "output_type": "stream",
     "text": [
      "The autoreload extension is already loaded. To reload it, use:\n",
      "  %reload_ext autoreload\n"
     ]
    }
   ],
   "source": [
    "import numpy as np\n",
    "\n",
    "# autoreload modules when code is run. Otherwise, python will not see recent changes. \n",
    "%load_ext autoreload\n",
    "%autoreload 2\n",
    "\n",
    "# Import your own code\n",
    "import inauguralproject"
   ]
  },
  {
   "cell_type": "markdown",
   "metadata": {},
   "source": [
    "# Question 1"
   ]
  },
  {
   "cell_type": "markdown",
   "metadata": {},
   "source": [
    "**Explain how you solve the model**"
   ]
  },
  {
   "cell_type": "code",
   "execution_count": 22,
   "metadata": {},
   "outputs": [
    {
     "name": "stdout",
     "output_type": "stream",
     "text": [
      "[ 1  4 16]\n"
     ]
    }
   ],
   "source": [
    "# code for solving the model (remember documentation and comments)\n",
    "\n",
    "a = np.array([1,2,4])\n",
    "b = inauguralproject.square(a)\n",
    "print(b)"
   ]
  },
  {
   "cell_type": "code",
   "execution_count": 23,
   "metadata": {},
   "outputs": [],
   "source": [
    "# Define utility functions\n",
    "def u_A(x_A1, x_A2, alpha):\n",
    "    return x_A1 **alpha * x_A2 ** (1-alpha)\n",
    "\n",
    "def u_B(x_B1, x_B2, beta):\n",
    "    return x_B1 ** beta * x_B2 ** (1-beta)"
   ]
  },
  {
   "cell_type": "code",
   "execution_count": 24,
   "metadata": {},
   "outputs": [],
   "source": [
    "# Define endowment points\n",
    "omega_A1 = 0.8\n",
    "omega_A2 = 0.3\n",
    "omega_B1 = 1 - omega_A1\n",
    "omega_B2 = 1 - omega_A2"
   ]
  },
  {
   "cell_type": "code",
   "execution_count": 30,
   "metadata": {},
   "outputs": [
    {
     "name": "stdout",
     "output_type": "stream",
     "text": [
      "0.6666666666666666\n"
     ]
    }
   ],
   "source": [
    "# Define alpha and beta\n",
    "alpha = 1/3\n",
    "beta = 2/3"
   ]
  },
  {
   "cell_type": "code",
   "execution_count": 32,
   "metadata": {},
   "outputs": [],
   "source": [
    "# Define the grid for p1 and p2\n",
    "N = 75\n",
    "p1_values = np.linspace(0.5, 2.5, N+1)\n",
    "p2 = 1  # Numeraire is p2 = 1"
   ]
  },
  {
   "cell_type": "code",
   "execution_count": 27,
   "metadata": {},
   "outputs": [],
   "source": [
    " # Initialize lists to store feasible allocations\n",
    "feasible_allocations = []\n",
    "\n",
    "# Iterate over combinations of p1\n",
    "for p1 in p1_values:\n",
    "    # Calculate demands for goods 1 and 2 for consumers A and B\n",
    "    x_A1 = alpha * (p1 * omega_A1 + p2 * omega_A2) / p1\n",
    "    x_A2 = (1 - alpha) * (p1 * omega_A1 + p2 * omega_A2) / p2\n",
    "    x_B1 = beta * (p1 * omega_B1 + p2 * omega_B2) / p1\n",
    "    x_B2 = (1 - beta) * (p1 * omega_B1 + p2 * omega_B2) / p2\n",
    "    \n",
    "     # Check if the combination satisfies the utility conditions for both consumers\n",
    "    if u_A(x_A1, x_A2, alpha) >= u_A(omega_A1, omega_A2, alpha) and u_B(x_B1, x_B2, beta) >= u_B(omega_B1, omega_B2, beta):\n",
    "        feasible_allocations.append((x_A1, x_A2))"
   ]
  },
  {
   "cell_type": "code",
   "execution_count": 28,
   "metadata": {},
   "outputs": [
    {
     "data": {
      "image/png": "[encoded data removed]",
      "text/plain": [
       "<Figure size 600x600 with 3 Axes>"
      ]
     },
     "metadata": {},
     "output_type": "display_data"
    }
   ],
   "source": [
    "import matplotlib.pyplot as plt\n",
    "# Plot the Edgeworth box and the set C\n",
    "fig = plt.figure(frameon=False,figsize=(6,6), dpi=100)\n",
    "ax_A = fig.add_subplot(1, 1, 1)\n",
    "\n",
    "ax_A.set_xlabel(\"$x_1^A$\")\n",
    "ax_A.set_ylabel(\"$x_2^A$\")\n",
    "\n",
    "temp = ax_A.twinx()\n",
    "temp.set_ylabel(\"$x_2^B$\")\n",
    "ax_B = temp.twiny()\n",
    "ax_B.set_xlabel(\"$x_1^B$\")\n",
    "ax_B.invert_xaxis()\n",
    "ax_B.invert_yaxis()\n",
    "\n",
    "# Extract x_A1 and x_A2 from feasible_allocations\n",
    "feasible_x_A1 = [allocation[0] for allocation in feasible_allocations]\n",
    "feasible_x_A2 = [allocation[1] for allocation in feasible_allocations]\n",
    "\n",
    "# Plot the set C\n",
    "ax_A.plot(feasible_x_A1, feasible_x_A2, 'bo', label='Set C')\n",
    "\n",
    "# Plot the initial endowment\n",
    "ax_A.scatter(omega_A1, omega_A2, marker='s', color='black', label='Endowment')\n",
    "\n",
    "# Plot the boundaries of the Edgeworth box\n",
    "ax_A.plot([0, 1], [0, 0], lw=2, color='black')\n",
    "ax_A.plot([0, 1], [1, 1], lw=2, color='black')\n",
    "ax_A.plot([0, 0], [0, 1], lw=2, color='black')\n",
    "ax_A.plot([1, 1], [0, 1], lw=2, color='black')\n",
    "\n",
    "# Set limits\n",
    "ax_A.set_xlim([-0.1, 1.1])\n",
    "ax_A.set_ylim([-0.1, 1.1])\n",
    "ax_B.set_xlim([1.1, -0.1])\n",
    "ax_B.set_ylim([1.1, -0.1])\n",
    "\n",
    "# Add legend\n",
    "ax_A.legend(frameon=True, loc='upper right', bbox_to_anchor=(1.6, 1.0))\n",
    "\n",
    "plt.show()\n",
    "\n"
   ]
  },
  {
   "cell_type": "markdown",
   "metadata": {},
   "source": [
    "# Question 2"
   ]
  },
  {
   "cell_type": "markdown",
   "metadata": {},
   "source": [
    "Explain your code and procedure"
   ]
  },
  {
   "cell_type": "code",
   "execution_count": 29,
   "metadata": {},
   "outputs": [
    {
     "ename": "AttributeError",
     "evalue": "type object 'ExchangeEconomyClass' has no attribute 'check_'",
     "output_type": "error",
     "traceback": [
      "\u001b[1;31m---------------------------------------------------------------------------\u001b[0m",
      "\u001b[1;31mAttributeError\u001b[0m                            Traceback (most recent call last)",
      "Cell \u001b[1;32mIn[29], line 4\u001b[0m\n\u001b[0;32m      1\u001b[0m \u001b[38;5;66;03m# code\u001b[39;00m\n\u001b[0;32m      2\u001b[0m \u001b[38;5;28;01mfrom\u001b[39;00m \u001b[38;5;21;01mExchange\u001b[39;00m \u001b[38;5;28;01mimport\u001b[39;00m ExchangeEconomyClass \u001b[38;5;28;01mas\u001b[39;00m eec\n\u001b[1;32m----> 4\u001b[0m eec\u001b[38;5;241m.\u001b[39mcheck_\n",
      "\u001b[1;31mAttributeError\u001b[0m: type object 'ExchangeEconomyClass' has no attribute 'check_'"
     ]
    }
   ],
   "source": [
    "# code\n",
    "from Exchange import ExchangeEconomyClass as eec\n",
    "\n",
    "eec.check_\n",
    "\n"
   ]
  },
  {
   "cell_type": "code",
   "execution_count": 35,
   "metadata": {},
   "outputs": [
    {
     "name": "stdout",
     "output_type": "stream",
     "text": [
      "Errors in market clearing conditions:\n",
      "For p1 = 0.5:\n",
      "Error 1: 0.533333333333333\n",
      "Error 2: -0.2666666666666666\n",
      "\n",
      "For p1 = 0.5266666666666666:\n",
      "Error 1: 0.47594936708860747\n",
      "Error 2: -0.25066666666666654\n",
      "\n",
      "For p1 = 0.5533333333333333:\n",
      "Error 1: 0.42409638554216855\n",
      "Error 2: -0.23466666666666652\n",
      "\n",
      "For p1 = 0.58:\n",
      "Error 1: 0.3770114942528735\n",
      "Error 2: -0.2186666666666665\n",
      "\n",
      "For p1 = 0.6066666666666667:\n",
      "Error 1: 0.33406593406593377\n",
      "Error 2: -0.2026666666666665\n",
      "\n",
      "For p1 = 0.6333333333333333:\n",
      "Error 1: 0.2947368421052629\n",
      "Error 2: -0.18666666666666654\n",
      "\n",
      "For p1 = 0.66:\n",
      "Error 1: 0.2585858585858586\n",
      "Error 2: -0.1706666666666664\n",
      "\n",
      "For p1 = 0.6866666666666666:\n",
      "Error 1: 0.22524271844660193\n",
      "Error 2: -0.1546666666666665\n",
      "\n",
      "For p1 = 0.7133333333333334:\n",
      "Error 1: 0.19439252336448576\n",
      "Error 2: -0.1386666666666665\n",
      "\n",
      "For p1 = 0.74:\n",
      "Error 1: 0.16576576576576557\n",
      "Error 2: -0.12266666666666659\n",
      "\n",
      "For p1 = 0.7666666666666666:\n",
      "Error 1: 0.13913043478260856\n",
      "Error 2: -0.10666666666666658\n",
      "\n",
      "For p1 = 0.7933333333333333:\n",
      "Error 1: 0.11428571428571421\n",
      "Error 2: -0.09066666666666645\n",
      "\n",
      "For p1 = 0.8200000000000001:\n",
      "Error 1: 0.09105691056910548\n",
      "Error 2: -0.07466666666666644\n",
      "\n",
      "For p1 = 0.8466666666666667:\n",
      "Error 1: 0.06929133858267705\n",
      "Error 2: -0.05866666666666642\n",
      "\n",
      "For p1 = 0.8733333333333333:\n",
      "Error 1: 0.048854961832061006\n",
      "Error 2: -0.04266666666666663\n",
      "\n",
      "For p1 = 0.9:\n",
      "Error 1: 0.029629629629629395\n",
      "Error 2: -0.026666666666666616\n",
      "\n",
      "For p1 = 0.9266666666666667:\n",
      "Error 1: 0.011510791366906414\n",
      "Error 2: -0.01066666666666638\n",
      "\n",
      "For p1 = 0.9533333333333334:\n",
      "Error 1: -0.00559440559440566\n",
      "Error 2: 0.005333333333333523\n",
      "\n",
      "For p1 = 0.98:\n",
      "Error 1: -0.021768707482993255\n",
      "Error 2: 0.021333333333333537\n",
      "\n",
      "For p1 = 1.0066666666666668:\n",
      "Error 1: -0.037086092715232055\n",
      "Error 2: 0.03733333333333355\n",
      "\n",
      "For p1 = 1.0333333333333332:\n",
      "Error 1: -0.05161290322580642\n",
      "Error 2: 0.053333333333333455\n",
      "\n",
      "For p1 = 1.06:\n",
      "Error 1: -0.06540880503144664\n",
      "Error 2: 0.06933333333333358\n",
      "\n",
      "For p1 = 1.0866666666666667:\n",
      "Error 1: -0.07852760736196335\n",
      "Error 2: 0.08533333333333348\n",
      "\n",
      "For p1 = 1.1133333333333333:\n",
      "Error 1: -0.09101796407185642\n",
      "Error 2: 0.1013333333333335\n",
      "\n",
      "For p1 = 1.1400000000000001:\n",
      "Error 1: -0.1029239766081873\n",
      "Error 2: 0.11733333333333362\n",
      "\n",
      "For p1 = 1.1666666666666667:\n",
      "Error 1: -0.11428571428571443\n",
      "Error 2: 0.13333333333333353\n",
      "\n",
      "For p1 = 1.1933333333333334:\n",
      "Error 1: -0.12513966480446936\n",
      "Error 2: 0.14933333333333365\n",
      "\n",
      "For p1 = 1.2200000000000002:\n",
      "Error 1: -0.1355191256830603\n",
      "Error 2: 0.16533333333333355\n",
      "\n",
      "For p1 = 1.2466666666666666:\n",
      "Error 1: -0.14545454545454545\n",
      "Error 2: 0.18133333333333357\n",
      "\n",
      "For p1 = 1.2733333333333334:\n",
      "Error 1: -0.15497382198952886\n",
      "Error 2: 0.19733333333333358\n",
      "\n",
      "For p1 = 1.3:\n",
      "Error 1: -0.16410256410256419\n",
      "Error 2: 0.2133333333333336\n",
      "\n",
      "For p1 = 1.3266666666666667:\n",
      "Error 1: -0.17286432160804022\n",
      "Error 2: 0.2293333333333336\n",
      "\n",
      "For p1 = 1.3533333333333335:\n",
      "Error 1: -0.18128078817734006\n",
      "Error 2: 0.24533333333333363\n",
      "\n",
      "For p1 = 1.38:\n",
      "Error 1: -0.1893719806763286\n",
      "Error 2: 0.2613333333333334\n",
      "\n",
      "For p1 = 1.4066666666666667:\n",
      "Error 1: -0.19715639810426555\n",
      "Error 2: 0.27733333333333365\n",
      "\n",
      "For p1 = 1.4333333333333333:\n",
      "Error 1: -0.20465116279069773\n",
      "Error 2: 0.29333333333333356\n",
      "\n",
      "For p1 = 1.46:\n",
      "Error 1: -0.21187214611872152\n",
      "Error 2: 0.30933333333333346\n",
      "\n",
      "For p1 = 1.4866666666666668:\n",
      "Error 1: -0.2188340807174889\n",
      "Error 2: 0.3253333333333337\n",
      "\n",
      "For p1 = 1.5133333333333334:\n",
      "Error 1: -0.22555066079295166\n",
      "Error 2: 0.3413333333333335\n",
      "\n",
      "For p1 = 1.54:\n",
      "Error 1: -0.2320346320346321\n",
      "Error 2: 0.3573333333333337\n",
      "\n",
      "For p1 = 1.5666666666666667:\n",
      "Error 1: -0.23829787234042554\n",
      "Error 2: 0.3733333333333335\n",
      "\n",
      "For p1 = 1.5933333333333335:\n",
      "Error 1: -0.24435146443514655\n",
      "Error 2: 0.38933333333333375\n",
      "\n",
      "For p1 = 1.62:\n",
      "Error 1: -0.2502057613168725\n",
      "Error 2: 0.40533333333333377\n",
      "\n",
      "For p1 = 1.6466666666666667:\n",
      "Error 1: -0.2558704453441297\n",
      "Error 2: 0.42133333333333356\n",
      "\n",
      "For p1 = 1.6733333333333333:\n",
      "Error 1: -0.2613545816733069\n",
      "Error 2: 0.43733333333333335\n",
      "\n",
      "For p1 = 1.7000000000000002:\n",
      "Error 1: -0.2666666666666666\n",
      "Error 2: 0.4533333333333338\n",
      "\n",
      "For p1 = 1.7266666666666668:\n",
      "Error 1: -0.27181467181467184\n",
      "Error 2: 0.4693333333333338\n",
      "\n",
      "For p1 = 1.7533333333333334:\n",
      "Error 1: -0.27680608365019016\n",
      "Error 2: 0.4853333333333336\n",
      "\n",
      "For p1 = 1.78:\n",
      "Error 1: -0.2816479400749065\n",
      "Error 2: 0.5013333333333334\n",
      "\n",
      "For p1 = 1.8066666666666666:\n",
      "Error 1: -0.28634686346863475\n",
      "Error 2: 0.5173333333333334\n",
      "\n",
      "For p1 = 1.8333333333333335:\n",
      "Error 1: -0.290909090909091\n",
      "Error 2: 0.5333333333333337\n",
      "\n",
      "For p1 = 1.86:\n",
      "Error 1: -0.2953405017921148\n",
      "Error 2: 0.5493333333333337\n",
      "\n",
      "For p1 = 1.8866666666666667:\n",
      "Error 1: -0.2996466431095407\n",
      "Error 2: 0.5653333333333337\n",
      "\n",
      "For p1 = 1.9133333333333333:\n",
      "Error 1: -0.3038327526132405\n",
      "Error 2: 0.5813333333333335\n",
      "\n",
      "For p1 = 1.9400000000000002:\n",
      "Error 1: -0.30790378006872865\n",
      "Error 2: 0.5973333333333337\n",
      "\n",
      "For p1 = 1.9666666666666668:\n",
      "Error 1: -0.3118644067796611\n",
      "Error 2: 0.6133333333333335\n",
      "\n",
      "For p1 = 1.9933333333333334:\n",
      "Error 1: -0.3157190635451506\n",
      "Error 2: 0.6293333333333337\n",
      "\n",
      "For p1 = 2.02:\n",
      "Error 1: -0.3194719471947195\n",
      "Error 2: 0.6453333333333335\n",
      "\n",
      "For p1 = 2.046666666666667:\n",
      "Error 1: -0.32312703583061897\n",
      "Error 2: 0.6613333333333336\n",
      "\n",
      "For p1 = 2.0733333333333333:\n",
      "Error 1: -0.3266881028938907\n",
      "Error 2: 0.6773333333333336\n",
      "\n",
      "For p1 = 2.1:\n",
      "Error 1: -0.3301587301587302\n",
      "Error 2: 0.6933333333333336\n",
      "\n",
      "For p1 = 2.126666666666667:\n",
      "Error 1: -0.3335423197492164\n",
      "Error 2: 0.7093333333333338\n",
      "\n",
      "For p1 = 2.1533333333333333:\n",
      "Error 1: -0.33684210526315794\n",
      "Error 2: 0.7253333333333336\n",
      "\n",
      "For p1 = 2.18:\n",
      "Error 1: -0.3400611620795108\n",
      "Error 2: 0.7413333333333336\n",
      "\n",
      "For p1 = 2.206666666666667:\n",
      "Error 1: -0.34320241691842907\n",
      "Error 2: 0.7573333333333336\n",
      "\n",
      "For p1 = 2.2333333333333334:\n",
      "Error 1: -0.346268656716418\n",
      "Error 2: 0.7733333333333337\n",
      "\n",
      "For p1 = 2.26:\n",
      "Error 1: -0.34926253687315645\n",
      "Error 2: 0.7893333333333332\n",
      "\n",
      "For p1 = 2.286666666666667:\n",
      "Error 1: -0.3521865889212829\n",
      "Error 2: 0.8053333333333337\n",
      "\n",
      "For p1 = 2.3133333333333335:\n",
      "Error 1: -0.3550432276657062\n",
      "Error 2: 0.8213333333333337\n",
      "\n",
      "For p1 = 2.34:\n",
      "Error 1: -0.357834757834758\n",
      "Error 2: 0.8373333333333333\n",
      "\n",
      "For p1 = 2.3666666666666667:\n",
      "Error 1: -0.3605633802816902\n",
      "Error 2: 0.8533333333333333\n",
      "\n",
      "For p1 = 2.3933333333333335:\n",
      "Error 1: -0.3632311977715878\n",
      "Error 2: 0.8693333333333337\n",
      "\n",
      "For p1 = 2.42:\n",
      "Error 1: -0.36584022038567504\n",
      "Error 2: 0.8853333333333333\n",
      "\n",
      "For p1 = 2.4466666666666668:\n",
      "Error 1: -0.36839237057220714\n",
      "Error 2: 0.9013333333333335\n",
      "\n",
      "For p1 = 2.4733333333333336:\n",
      "Error 1: -0.37088948787062004\n",
      "Error 2: 0.9173333333333338\n",
      "\n",
      "For p1 = 2.5:\n",
      "Error 1: -0.3733333333333334\n",
      "Error 2: 0.9333333333333333\n",
      "\n"
     ]
    }
   ],
   "source": [
    "# Initialize lists to store errors\n",
    "errors_1 = []\n",
    "errors_2 = []\n",
    "# Iterate over each value of p1\n",
    "for p1 in p1_values:\n",
    "    # Calculate demand for both goods for consumer A\n",
    "    x_A1_star = alpha * (p1 * omega_A1 + omega_A2 * p2) / p1\n",
    "    x_A2_star = (1 - alpha) * (p1 * omega_A1 + omega_A2 * p2) / p2\n",
    "    \n",
    "    # Calculate demand for both goods for consumer B\n",
    "    x_B1_star = beta * (p1 * omega_B1 + omega_B2* p2) / p1\n",
    "    x_B2_star = (1 - beta) * (p1 * omega_B1 + omega_B2 * p2) / p2\n",
    "\n",
    "# Calculate errors in market clearing conditions\n",
    "    error_1 = x_A1_star - omega_A1 + x_B1_star - omega_B1\n",
    "    error_2 = x_A2_star - omega_A2 + x_B2_star - omega_B2\n",
    "    \n",
    "    # Append errors to the lists\n",
    "    errors_1.append(error_1)\n",
    "    errors_2.append(error_2)\n",
    "\n",
    "# Print errors\n",
    "print(\"Errors in market clearing conditions:\")\n",
    "for i, p1 in enumerate(p1_values):\n",
    "    print(f\"For p1 = {p1}:\")\n",
    "    print(f\"Error 1: {errors_1[i]}\")\n",
    "    print(f\"Error 2: {errors_2[i]}\")\n",
    "    print()\n"
   ]
  },
  {
   "cell_type": "markdown",
   "metadata": {},
   "source": [
    "# Question 3"
   ]
  },
  {
   "cell_type": "markdown",
   "metadata": {},
   "source": [
    "Explain your code and procedure"
   ]
  },
  {
   "cell_type": "code",
   "execution_count": 33,
   "metadata": {},
   "outputs": [
    {
     "name": "stdout",
     "output_type": "stream",
     "text": [
      "The market clearing price is: 0.9444444444444444\n"
     ]
    }
   ],
   "source": [
    "# Define demand functions for both consumers\n",
    "def demand_A(p1):\n",
    "    x_A1 = alpha * (p1 * omega_A1 + omega_A2) / p1\n",
    "    return x_A1\n",
    "\n",
    "def demand_B(p1):\n",
    "    x_B1 = beta * (p1 * omega_B1 + omega_B2) / p1\n",
    "    return x_B1\n",
    "\n",
    "# Define supply functions\n",
    "def supply_A(p1):\n",
    "    return omega_A1\n",
    "\n",
    "def supply_B(p1):\n",
    "    return omega_B1\n",
    "\n",
    "# Define a function to calculate the market clearing price\n",
    "def market_clearing_price():\n",
    "    # Define a range of prices\n",
    "    prices = np.linspace(0.5, 2.5, num=1000)\n",
    "    \n",
    "    # Iterate over prices to find the one where quantity demanded equals quantity supplied\n",
    "    for p1 in prices:\n",
    "        if demand_A(p1) + demand_B(p1) == supply_A(p1) + supply_B(p1):\n",
    "            return p1\n",
    "    \n",
    "    return None  # Return None if no market clearing price is found\n",
    "\n",
    "# Find the market clearing price\n",
    "clearing_price = market_clearing_price()\n",
    "\n",
    "# Print the result\n",
    "if clearing_price is not None:\n",
    "    print(\"The market clearing price is:\", clearing_price)\n",
    "else:\n",
    "    print(\"No market clearing price found in the given range of prices.\")\n",
    "\n"
   ]
  },
  {
   "cell_type": "markdown",
   "metadata": {},
   "source": [
    "ADD CONCISE CONLUSION."
   ]
  },
  {
   "cell_type": "code",
   "execution_count": null,
   "metadata": {},
   "outputs": [
    {
     "data": {
      "image/png": "[encoded data removed]",
      "text/plain": [
       "<Figure size 600x600 with 3 Axes>"
      ]
     },
     "metadata": {},
     "output_type": "display_data"
    }
   ],
   "source": [
    "\n",
    "import matplotlib.pyplot as plt\n",
    "plt.rcParams.update({\"axes.grid\":True,\"grid.color\":\"black\",\"grid.alpha\":\"0.25\",\"grid.linestyle\":\"--\"})\n",
    "plt.rcParams.update({'font.size': 14})\n",
    "\n",
    "\n",
    "from Exchange import ExchangeEconomyClass\n",
    "\n",
    "\n",
    "model = ExchangeEconomyClass()\n",
    "\n",
    "\n",
    "par = model.par\n",
    "\n",
    "# a. total endowment\n",
    "w1bar = 1.0\n",
    "w2bar = 1.0\n",
    "\n",
    "# b. figure set up\n",
    "fig = plt.figure(frameon=False,figsize=(6,6), dpi=100)\n",
    "ax_A = fig.add_subplot(1, 1, 1)\n",
    "\n",
    "ax_A.set_xlabel(\"$x_1^A$\")\n",
    "ax_A.set_ylabel(\"$x_2^A$\")\n",
    "\n",
    "temp = ax_A.twinx()\n",
    "temp.set_ylabel(\"$x_2^B$\")\n",
    "ax_B = temp.twiny()\n",
    "ax_B.set_xlabel(\"$x_1^B$\")\n",
    "ax_B.invert_xaxis()\n",
    "ax_B.invert_yaxis()\n",
    "\n",
    "# A\n",
    "ax_A.scatter(par.w1A,par.w2A,marker='s',color='black',label='endowment')\n",
    "\n",
    "# limits\n",
    "ax_A.plot([0,w1bar],[0,0],lw=2,color='black')\n",
    "ax_A.plot([0,w1bar],[w2bar,w2bar],lw=2,color='black')\n",
    "ax_A.plot([0,0],[0,w2bar],lw=2,color='black')\n",
    "ax_A.plot([w1bar,w1bar],[0,w2bar],lw=2,color='black')\n",
    "\n",
    "ax_A.set_xlim([-0.1, w1bar + 0.1])\n",
    "ax_A.set_ylim([-0.1, w2bar + 0.1])    \n",
    "ax_B.set_xlim([w1bar + 0.1, -0.1])\n",
    "ax_B.set_ylim([w2bar + 0.1, -0.1])\n",
    "\n",
    "ax_A.legend(frameon=True,loc='upper right',bbox_to_anchor=(1.6,1.0));"
   ]
  }
 ],
 "metadata": {
  "kernelspec": {
   "display_name": "base",
   "language": "python",
   "name": "python3"
  },
  "language_info": {
   "codemirror_mode": {
    "name": "ipython",
    "version": 3
   },
   "file_extension": ".py",
   "mimetype": "text/x-python",
   "name": "python",
   "nbconvert_exporter": "python",
   "pygments_lexer": "ipython3",
   "version": "3.11.7"
  },
  "toc-autonumbering": true,
  "vscode": {
   "interpreter": {
    "hash": "47ef90cdf3004d3f859f1fb202523c65c07ba7c22eefd261b181f4744e2d0403"
   }
  }
 },
 "nbformat": 4,
 "nbformat_minor": 4
}
