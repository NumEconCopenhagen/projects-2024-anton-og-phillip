{
 "cells": [
  {
   "cell_type": "markdown",
   "metadata": {},
   "source": [
    "# YOUR PROJECT TITLE"
   ]
  },
  {
   "attachments": {},
   "cell_type": "markdown",
   "metadata": {},
   "source": [
    "> **Note the following:** \n",
    "> 1. This is *not* meant to be an example of an actual **data analysis project**, just an example of how to structure such a project.\n",
    "> 1. Remember the general advice on structuring and commenting your code\n",
    "> 1. The `dataproject.py` file includes a function which can be used multiple times in this notebook."
   ]
  },
  {
   "cell_type": "markdown",
   "metadata": {},
   "source": [
    "Imports and set magics:"
   ]
  },
  {
   "cell_type": "code",
   "execution_count": 45,
   "metadata": {},
   "outputs": [
    {
     "name": "stdout",
     "output_type": "stream",
     "text": [
      "The autoreload extension is already loaded. To reload it, use:\n",
      "  %reload_ext autoreload\n",
      "Index(['Year;Fertility'], dtype='object')\n"
     ]
    }
   ],
   "source": [
    "import pandas as pd\n",
    "import numpy as np\n",
    "import matplotlib.pyplot as plt\n",
    "import ipywidgets as widgets\n",
    "from matplotlib_venn import venn2\n",
    "\n",
    "# autoreload modules when code is run\n",
    "%load_ext autoreload\n",
    "%autoreload 2\n",
    "\n",
    "# user written modules\n",
    "import dataproject\n",
    "\n",
    "# Read the Excel file into a pandas DataFrame\n",
    "df1 = pd.read_csv('FERTILITY.csv')\n",
    "\n",
    "# Now you have the table data in a pandas DataFrame object (df)\n",
    "df1.head(5)\n",
    "\n",
    "print(df1.columns)\n"
   ]
  },
  {
   "cell_type": "code",
   "execution_count": 46,
   "metadata": {},
   "outputs": [],
   "source": [
    "import pandas as pd\n",
    "import matplotlib.pyplot as plt\n",
    "\n",
    "# Read data from CSV files\n",
    "FERT = pd.read_csv('FERTILITY.csv',delimiter=';')\n",
    "GDP = pd.read_csv('GDP.csv',delimiter=';')\n",
    "INF = pd.read_csv('Inflation.csv',delimiter=';')\n",
    "\n",
    "\n",
    "FERT.drop(range(0,17),inplace=True)\n",
    "\n",
    "Fertility = FERT['Fertility'].values\n",
    "Puncturation = [i.replace(',','.') for i in Fertility] \n",
    "Fertilityrate = list(map(float,Puncturation))\n",
    "FERT = FERT.reset_index(drop=True)\n",
    "FERT = pd.concat([FERT,pd.DataFrame(Puncturation,columns=['Fertilityrate'])],axis=1)\n",
    "FERT = FERT.drop(columns=['Fertility'])\n",
    "\n",
    "GDproduct = GDP['Real GDP'].values\n",
    "Puncturation = [i.replace(',','.') for i in GDproduct]\n",
    "GrossDP = list(map(float,Puncturation))\n",
    "GDP = GDP.reset_index(drop=True)\n",
    "GDP = pd.concat([GDP,pd.DataFrame(Puncturation,columns=['GrossDP'])],axis=1)\n",
    "GDP = GDP.drop(columns=['Real GDP'])\n",
    "\n",
    "Inflation = INF['Inflation'].values\n",
    "Puncturation = [i.replace(',','.') for i in Inflation]\n",
    "Inflationrate = list(map(float,Puncturation))\n",
    "INF = INF.reset_index(drop=True)\n",
    "INF = pd.concat([INF,pd.DataFrame(Puncturation,columns=['Inflationrate'])],axis=1)\n",
    "INF = INF.drop(columns=['Inflation'])\n",
    "\n"
   ]
  },
  {
   "cell_type": "code",
   "execution_count": 24,
   "metadata": {},
   "outputs": [
    {
     "data": {
      "text/html": [
       "<div>\n",
       "<style scoped>\n",
       "    .dataframe tbody tr th:only-of-type {\n",
       "        vertical-align: middle;\n",
       "    }\n",
       "\n",
       "    .dataframe tbody tr th {\n",
       "        vertical-align: top;\n",
       "    }\n",
       "\n",
       "    .dataframe thead th {\n",
       "        text-align: right;\n",
       "    }\n",
       "</style>\n",
       "<table border=\"1\" class=\"dataframe\">\n",
       "  <thead>\n",
       "    <tr style=\"text-align: right;\">\n",
       "      <th></th>\n",
       "      <th>Year</th>\n",
       "      <th>Fertilityrate</th>\n",
       "    </tr>\n",
       "  </thead>\n",
       "  <tbody>\n",
       "    <tr>\n",
       "      <th>0</th>\n",
       "      <td>2003</td>\n",
       "      <td>1759.9</td>\n",
       "    </tr>\n",
       "    <tr>\n",
       "      <th>1</th>\n",
       "      <td>2004</td>\n",
       "      <td>1785.2</td>\n",
       "    </tr>\n",
       "    <tr>\n",
       "      <th>2</th>\n",
       "      <td>2005</td>\n",
       "      <td>1802.1</td>\n",
       "    </tr>\n",
       "    <tr>\n",
       "      <th>3</th>\n",
       "      <td>2006</td>\n",
       "      <td>1847.6</td>\n",
       "    </tr>\n",
       "    <tr>\n",
       "      <th>4</th>\n",
       "      <td>2007</td>\n",
       "      <td>1843.5</td>\n",
       "    </tr>\n",
       "  </tbody>\n",
       "</table>\n",
       "</div>"
      ],
      "text/plain": [
       "   Year Fertilityrate\n",
       "0  2003        1759.9\n",
       "1  2004        1785.2\n",
       "2  2005        1802.1\n",
       "3  2006        1847.6\n",
       "4  2007        1843.5"
      ]
     },
     "execution_count": 24,
     "metadata": {},
     "output_type": "execute_result"
    }
   ],
   "source": [
    "FERT.head(5)\n",
    "\n",
    "\n"
   ]
  },
  {
   "cell_type": "code",
   "execution_count": 25,
   "metadata": {},
   "outputs": [
    {
     "data": {
      "text/html": [
       "<div>\n",
       "<style scoped>\n",
       "    .dataframe tbody tr th:only-of-type {\n",
       "        vertical-align: middle;\n",
       "    }\n",
       "\n",
       "    .dataframe tbody tr th {\n",
       "        vertical-align: top;\n",
       "    }\n",
       "\n",
       "    .dataframe thead th {\n",
       "        text-align: right;\n",
       "    }\n",
       "</style>\n",
       "<table border=\"1\" class=\"dataframe\">\n",
       "  <thead>\n",
       "    <tr style=\"text-align: right;\">\n",
       "      <th></th>\n",
       "      <th>Year</th>\n",
       "      <th>Inflationrate</th>\n",
       "    </tr>\n",
       "  </thead>\n",
       "  <tbody>\n",
       "    <tr>\n",
       "      <th>0</th>\n",
       "      <td>2003</td>\n",
       "      <td>1.7</td>\n",
       "    </tr>\n",
       "    <tr>\n",
       "      <th>1</th>\n",
       "      <td>2004</td>\n",
       "      <td>0.9</td>\n",
       "    </tr>\n",
       "    <tr>\n",
       "      <th>2</th>\n",
       "      <td>2005</td>\n",
       "      <td>1.5</td>\n",
       "    </tr>\n",
       "    <tr>\n",
       "      <th>3</th>\n",
       "      <td>2006</td>\n",
       "      <td>1.6</td>\n",
       "    </tr>\n",
       "    <tr>\n",
       "      <th>4</th>\n",
       "      <td>2007</td>\n",
       "      <td>1.5</td>\n",
       "    </tr>\n",
       "  </tbody>\n",
       "</table>\n",
       "</div>"
      ],
      "text/plain": [
       "   Year Inflationrate\n",
       "0  2003           1.7\n",
       "1  2004           0.9\n",
       "2  2005           1.5\n",
       "3  2006           1.6\n",
       "4  2007           1.5"
      ]
     },
     "execution_count": 25,
     "metadata": {},
     "output_type": "execute_result"
    }
   ],
   "source": [
    "INF.head(5)"
   ]
  },
  {
   "cell_type": "code",
   "execution_count": 26,
   "metadata": {},
   "outputs": [
    {
     "data": {
      "text/html": [
       "<div>\n",
       "<style scoped>\n",
       "    .dataframe tbody tr th:only-of-type {\n",
       "        vertical-align: middle;\n",
       "    }\n",
       "\n",
       "    .dataframe tbody tr th {\n",
       "        vertical-align: top;\n",
       "    }\n",
       "\n",
       "    .dataframe thead th {\n",
       "        text-align: right;\n",
       "    }\n",
       "</style>\n",
       "<table border=\"1\" class=\"dataframe\">\n",
       "  <thead>\n",
       "    <tr style=\"text-align: right;\">\n",
       "      <th></th>\n",
       "      <th>Year</th>\n",
       "      <th>GrossDP</th>\n",
       "    </tr>\n",
       "  </thead>\n",
       "  <tbody>\n",
       "    <tr>\n",
       "      <th>0</th>\n",
       "      <td>2003</td>\n",
       "      <td>1705.5</td>\n",
       "    </tr>\n",
       "    <tr>\n",
       "      <th>1</th>\n",
       "      <td>2004</td>\n",
       "      <td>1751</td>\n",
       "    </tr>\n",
       "    <tr>\n",
       "      <th>2</th>\n",
       "      <td>2005</td>\n",
       "      <td>1792</td>\n",
       "    </tr>\n",
       "    <tr>\n",
       "      <th>3</th>\n",
       "      <td>2006</td>\n",
       "      <td>1862.1</td>\n",
       "    </tr>\n",
       "    <tr>\n",
       "      <th>4</th>\n",
       "      <td>2007</td>\n",
       "      <td>1879</td>\n",
       "    </tr>\n",
       "  </tbody>\n",
       "</table>\n",
       "</div>"
      ],
      "text/plain": [
       "   Year GrossDP\n",
       "0  2003  1705.5\n",
       "1  2004    1751\n",
       "2  2005    1792\n",
       "3  2006  1862.1\n",
       "4  2007    1879"
      ]
     },
     "execution_count": 26,
     "metadata": {},
     "output_type": "execute_result"
    }
   ],
   "source": [
    "GDP.head(5)"
   ]
  },
  {
   "cell_type": "code",
   "execution_count": 47,
   "metadata": {},
   "outputs": [
    {
     "data": {
      "text/html": [
       "<div>\n",
       "<style scoped>\n",
       "    .dataframe tbody tr th:only-of-type {\n",
       "        vertical-align: middle;\n",
       "    }\n",
       "\n",
       "    .dataframe tbody tr th {\n",
       "        vertical-align: top;\n",
       "    }\n",
       "\n",
       "    .dataframe thead th {\n",
       "        text-align: right;\n",
       "    }\n",
       "</style>\n",
       "<table border=\"1\" class=\"dataframe\">\n",
       "  <thead>\n",
       "    <tr style=\"text-align: right;\">\n",
       "      <th></th>\n",
       "      <th>Year</th>\n",
       "      <th>Fertilityrate</th>\n",
       "      <th>GrossDP</th>\n",
       "      <th>Inflationrate</th>\n",
       "    </tr>\n",
       "  </thead>\n",
       "  <tbody>\n",
       "    <tr>\n",
       "      <th>0</th>\n",
       "      <td>2003</td>\n",
       "      <td>1759.9</td>\n",
       "      <td>1705.5</td>\n",
       "      <td>1.7</td>\n",
       "    </tr>\n",
       "    <tr>\n",
       "      <th>1</th>\n",
       "      <td>2004</td>\n",
       "      <td>1785.2</td>\n",
       "      <td>1751</td>\n",
       "      <td>0.9</td>\n",
       "    </tr>\n",
       "    <tr>\n",
       "      <th>2</th>\n",
       "      <td>2005</td>\n",
       "      <td>1802.1</td>\n",
       "      <td>1792</td>\n",
       "      <td>1.5</td>\n",
       "    </tr>\n",
       "    <tr>\n",
       "      <th>3</th>\n",
       "      <td>2006</td>\n",
       "      <td>1847.6</td>\n",
       "      <td>1862.1</td>\n",
       "      <td>1.6</td>\n",
       "    </tr>\n",
       "    <tr>\n",
       "      <th>4</th>\n",
       "      <td>2007</td>\n",
       "      <td>1843.5</td>\n",
       "      <td>1879</td>\n",
       "      <td>1.5</td>\n",
       "    </tr>\n",
       "    <tr>\n",
       "      <th>5</th>\n",
       "      <td>2008</td>\n",
       "      <td>1888.8</td>\n",
       "      <td>1869.4</td>\n",
       "      <td>3</td>\n",
       "    </tr>\n",
       "    <tr>\n",
       "      <th>6</th>\n",
       "      <td>2009</td>\n",
       "      <td>1839.6</td>\n",
       "      <td>1777.7</td>\n",
       "      <td>1.1</td>\n",
       "    </tr>\n",
       "    <tr>\n",
       "      <th>7</th>\n",
       "      <td>2010</td>\n",
       "      <td>1871.2</td>\n",
       "      <td>1810.9</td>\n",
       "      <td>2.1</td>\n",
       "    </tr>\n",
       "    <tr>\n",
       "      <th>8</th>\n",
       "      <td>2011</td>\n",
       "      <td>1752.4</td>\n",
       "      <td>1835.1</td>\n",
       "      <td>2.6</td>\n",
       "    </tr>\n",
       "    <tr>\n",
       "      <th>9</th>\n",
       "      <td>2012</td>\n",
       "      <td>1729.2</td>\n",
       "      <td>1839.3</td>\n",
       "      <td>2.3</td>\n",
       "    </tr>\n",
       "    <tr>\n",
       "      <th>10</th>\n",
       "      <td>2013</td>\n",
       "      <td>1668.7</td>\n",
       "      <td>1856.5</td>\n",
       "      <td>0.8</td>\n",
       "    </tr>\n",
       "    <tr>\n",
       "      <th>11</th>\n",
       "      <td>2014</td>\n",
       "      <td>1691.2</td>\n",
       "      <td>1886.5</td>\n",
       "      <td>0.6</td>\n",
       "    </tr>\n",
       "    <tr>\n",
       "      <th>12</th>\n",
       "      <td>2015</td>\n",
       "      <td>1713.6</td>\n",
       "      <td>1930.7</td>\n",
       "      <td>0.4</td>\n",
       "    </tr>\n",
       "    <tr>\n",
       "      <th>13</th>\n",
       "      <td>2016</td>\n",
       "      <td>1785.4</td>\n",
       "      <td>1993.4</td>\n",
       "      <td>0.3</td>\n",
       "    </tr>\n",
       "    <tr>\n",
       "      <th>14</th>\n",
       "      <td>2017</td>\n",
       "      <td>1751.9</td>\n",
       "      <td>2049.6</td>\n",
       "      <td>1.1</td>\n",
       "    </tr>\n",
       "    <tr>\n",
       "      <th>15</th>\n",
       "      <td>2018</td>\n",
       "      <td>1729.7</td>\n",
       "      <td>2090.4</td>\n",
       "      <td>0.8</td>\n",
       "    </tr>\n",
       "    <tr>\n",
       "      <th>16</th>\n",
       "      <td>2019</td>\n",
       "      <td>1699.4</td>\n",
       "      <td>2121.6</td>\n",
       "      <td>0.8</td>\n",
       "    </tr>\n",
       "    <tr>\n",
       "      <th>17</th>\n",
       "      <td>2020</td>\n",
       "      <td>1674.7</td>\n",
       "      <td>2070.2</td>\n",
       "      <td>0.4</td>\n",
       "    </tr>\n",
       "    <tr>\n",
       "      <th>18</th>\n",
       "      <td>2021</td>\n",
       "      <td>1724.1</td>\n",
       "      <td>2211.9</td>\n",
       "      <td>2</td>\n",
       "    </tr>\n",
       "    <tr>\n",
       "      <th>19</th>\n",
       "      <td>2022</td>\n",
       "      <td>1552.9</td>\n",
       "      <td>2272.3</td>\n",
       "      <td>8.1</td>\n",
       "    </tr>\n",
       "  </tbody>\n",
       "</table>\n",
       "</div>"
      ],
      "text/plain": [
       "    Year Fertilityrate GrossDP Inflationrate\n",
       "0   2003        1759.9  1705.5           1.7\n",
       "1   2004        1785.2    1751           0.9\n",
       "2   2005        1802.1    1792           1.5\n",
       "3   2006        1847.6  1862.1           1.6\n",
       "4   2007        1843.5    1879           1.5\n",
       "5   2008        1888.8  1869.4             3\n",
       "6   2009        1839.6  1777.7           1.1\n",
       "7   2010        1871.2  1810.9           2.1\n",
       "8   2011        1752.4  1835.1           2.6\n",
       "9   2012        1729.2  1839.3           2.3\n",
       "10  2013        1668.7  1856.5           0.8\n",
       "11  2014        1691.2  1886.5           0.6\n",
       "12  2015        1713.6  1930.7           0.4\n",
       "13  2016        1785.4  1993.4           0.3\n",
       "14  2017        1751.9  2049.6           1.1\n",
       "15  2018        1729.7  2090.4           0.8\n",
       "16  2019        1699.4  2121.6           0.8\n",
       "17  2020        1674.7  2070.2           0.4\n",
       "18  2021        1724.1  2211.9             2\n",
       "19  2022        1552.9  2272.3           8.1"
      ]
     },
     "execution_count": 47,
     "metadata": {},
     "output_type": "execute_result"
    }
   ],
   "source": [
    "#merge\n",
    "Alldata = pd.merge(FERT,GDP,on='Year',how='outer')\n",
    "Alldata = pd.merge(Alldata,INF,on='Year',how='outer')\n",
    "Alldata.head(20)"
   ]
  },
  {
   "cell_type": "code",
   "execution_count": 48,
   "metadata": {},
   "outputs": [
    {
     "name": "stdout",
     "output_type": "stream",
     "text": [
      "       Fertilityrate GrossDP Inflationrate\n",
      "count             21      21            21\n",
      "unique            21      21            16\n",
      "top           1759.9  1705.5           0.8\n",
      "freq               1       1             3\n"
     ]
    }
   ],
   "source": [
    "pd.options.display.float_format = '{:.1f}'.format\n",
    "columns_to_describe = ['Fertilityrate', 'GrossDP', 'Inflationrate']\n",
    "description = Alldata[columns_to_describe].describe(include='all')\n",
    "print(description)\n",
    "\n"
   ]
  },
  {
   "cell_type": "code",
   "execution_count": 80,
   "metadata": {},
   "outputs": [
    {
     "data": {
      "image/png": "[encoded data removed]",
      "text/plain": [
       "<Figure size 1000x400 with 1 Axes>"
      ]
     },
     "metadata": {},
     "output_type": "display_data"
    },
    {
     "data": {
      "image/png": "[encoded data removed]",
      "text/plain": [
       "<Figure size 1000x400 with 1 Axes>"
      ]
     },
     "metadata": {},
     "output_type": "display_data"
    },
    {
     "data": {
      "image/png": "[encoded data removed]",
      "text/plain": [
       "<Figure size 1000x400 with 1 Axes>"
      ]
     },
     "metadata": {},
     "output_type": "display_data"
    }
   ],
   "source": [
    "import matplotlib.pyplot as plt\n",
    "\n",
    "# Convert 'Year' column to integer if it's stored as string\n",
    "Alldata['Year'] = pd.to_numeric(Alldata['Year'], errors='coerce')\n",
    "# Convert other columns to numeric type\n",
    "Alldata['GrossDP'] = pd.to_numeric(Alldata['GrossDP'], errors='coerce')\n",
    "Alldata['Inflationrate'] = pd.to_numeric(Alldata['Inflationrate'], errors='coerce')\n",
    "Alldata['Fertilityrate'] = pd.to_numeric(Alldata['Fertilityrate'], errors='coerce')\n",
    "\n",
    "# Drop rows with NaN values\n",
    "Alldata.dropna(inplace=True)\n",
    "\n",
    "# Sort the DataFrame by the 'Year' column\n",
    "Alldata.sort_values(by='Year', inplace=True)\n",
    "\n",
    "# Plot GrossDP\n",
    "plt.figure(figsize=(10, 4))\n",
    "plt.plot(Alldata['Year'], Alldata['GrossDP'], marker='o', color='blue')\n",
    "plt.ylabel('Real GDP (Mia. kr.)')\n",
    "plt.title('Real GDP Over Time For Denmark')\n",
    "plt.xticks(Alldata['Year'].unique())  # Set x-ticks to unique years\n",
    "plt.xlabel('Year')\n",
    "plt.grid(True)  # Add gridlines\n",
    "plt.tight_layout()\n",
    "plt.show()\n",
    "\n",
    "# Plot Inflationrate\n",
    "plt.figure(figsize=(10, 4))\n",
    "plt.plot(Alldata['Year'], Alldata['Inflationrate'], marker='o', color='green')\n",
    "plt.ylabel('Inflationrate (Percent)')\n",
    "plt.title('Inflation Rate Over Time For Denmark')\n",
    "plt.xticks(Alldata['Year'].unique())  # Set x-ticks to unique years\n",
    "plt.xlabel('Year')\n",
    "plt.grid(True)  # Add gridlines\n",
    "plt.tight_layout()\n",
    "plt.show()\n",
    "\n",
    "# Plot Fertilityrate\n",
    "plt.figure(figsize=(10, 4))\n",
    "plt.plot(Alldata['Year'], Alldata['Fertilityrate'], marker='o', color='orange')\n",
    "plt.ylabel('Fertilityrate (Babies pr. 1000 woman)')\n",
    "plt.title('Fertility Rate Over Time For Denmark')\n",
    "plt.xticks(Alldata['Year'].unique())  # Set x-ticks to unique years\n",
    "plt.xlabel('Year')\n",
    "plt.grid(True)  # Add gridlines\n",
    "plt.tight_layout()\n",
    "plt.show()\n"
   ]
  },
  {
   "cell_type": "code",
   "execution_count": 71,
   "metadata": {},
   "outputs": [
    {
     "name": "stdout",
     "output_type": "stream",
     "text": [
      "Average GDP: 1960.7399999999998\n",
      "Maximum GDP: 2315.2\n",
      "Minimum GDP: 1751.0\n",
      "Average Fertility Rate: 1742.355\n",
      "Average Inflation Rate: 1.78\n"
     ]
    }
   ],
   "source": [
    "import pandas as pd\n",
    "import matplotlib.pyplot as plt\n",
    "#Analysis of the data via simple calculations.\n",
    "\n",
    "# Calculate average GDP\n",
    "avg_gdp = Alldata['GrossDP'].mean()\n",
    "\n",
    "# Calculate maximum and minimum GDP\n",
    "max_gdp = Alldata['GrossDP'].max()\n",
    "min_gdp = Alldata['GrossDP'].min()\n",
    "\n",
    "# Calculate average Fertility Rate\n",
    "avg_fertility = Alldata['Fertilityrate'].mean()\n",
    "\n",
    "# Calculate average Inflation Rate\n",
    "avg_inflation = Alldata['Inflationrate'].mean()\n",
    "\n",
    "# Print the results\n",
    "print(\"Average GDP:\", avg_gdp)\n",
    "print(\"Maximum GDP:\", max_gdp)\n",
    "print(\"Minimum GDP:\", min_gdp)\n",
    "print(\"Average Fertility Rate:\", avg_fertility)\n",
    "print(\"Average Inflation Rate:\", avg_inflation)\n",
    "\n",
    "#A few points: \n",
    "#1: Steady ecoonmic growth since after the financial crisis means that Denmark is substancially richer today compared to 20 years ago.\n",
    "#2: Historically, danish inflation has been low with an average inflation rate of 1.78% over the last 20 years.\n",
    "    #Highlights the dramatic increase in inflation up to 8% as a result of Covid-19, fiscal stimilus, supply shocks from the war in Ukraine etc.\n",
    "\n"
   ]
  },
  {
   "cell_type": "code",
   "execution_count": 81,
   "metadata": {},
   "outputs": [
    {
     "name": "stdout",
     "output_type": "stream",
     "text": [
      "Correlation between GDP and Inflation Rate: 0.42117088179963946\n"
     ]
    }
   ],
   "source": [
    "#Calculating the correlation (Normalised covariance) between GDP and Inflation\n",
    "correlation_gdp_inflation = Alldata['GrossDP'].corr(Alldata['Inflationrate'])\n",
    "print(\"Correlation between GDP and Inflation Rate:\", correlation_gdp_inflation)\n",
    "\n",
    "#A strong positive correlation of 0.42 between GDP and inflation is what we expect to see over a longer period, where cyclical influences are less important. \n",
    "    #Higher GDP means higher demand for goods and services which, all other things being equal, drives up the price level. \n",
    "    #Not clear from the correlation alone which way the causality runs. (Does GDP determine prices or vice versa?)."
   ]
  },
  {
   "cell_type": "code",
   "execution_count": 73,
   "metadata": {},
   "outputs": [
    {
     "name": "stdout",
     "output_type": "stream",
     "text": [
      "    Year  GDP_growth\n",
      "2   2005         2.3\n",
      "3   2006         3.9\n",
      "4   2007         0.9\n",
      "5   2008        -0.5\n",
      "6   2009        -4.9\n",
      "7   2010         1.9\n",
      "8   2011         1.3\n",
      "9   2012         0.2\n",
      "10  2013         0.9\n",
      "11  2014         1.6\n",
      "12  2015         2.3\n",
      "13  2016         3.2\n",
      "14  2017         2.8\n",
      "15  2018         2.0\n",
      "16  2019         1.5\n",
      "17  2020        -2.4\n",
      "18  2021         6.8\n",
      "19  2022         2.7\n",
      "20  2023         1.9\n"
     ]
    }
   ],
   "source": [
    "import pandas as pd\n",
    "\n",
    "# Calculate the annual growth rate of GDP\n",
    "Alldata['GDP_growth'] = Alldata['GrossDP'].pct_change() * 100  # Calculate percentage change in GDP\n",
    "\n",
    "# Create a new DataFrame with Year and GDP Growth Rate\n",
    "gdp_growth_data = pd.DataFrame({'Year': Alldata['Year'], 'GDP_growth': Alldata['GDP_growth']})\n",
    "\n",
    "# Drop the first row since it will have NaN value for growth rate\n",
    "gdp_growth_data = gdp_growth_data.dropna()\n",
    "\n",
    "# Print the DataFrame with Year and GDP Growth Rate\n",
    "print(gdp_growth_data)\n",
    "\n",
    "#Danish GDP growth has generally been 1-2% over the last 20 years. Negative growth in periods of turmoil like the 2008 crisis or Covid-19."
   ]
  },
  {
   "cell_type": "code",
   "execution_count": 76,
   "metadata": {},
   "outputs": [
    {
     "name": "stdout",
     "output_type": "stream",
     "text": [
      "Year\tFertilityrate_per_woman\n",
      "2004\t1.79\n",
      "2005\t1.8\n",
      "2006\t1.85\n",
      "2007\t1.84\n",
      "2008\t1.89\n",
      "2009\t1.84\n",
      "2010\t1.87\n",
      "2011\t1.75\n",
      "2012\t1.73\n",
      "2013\t1.67\n",
      "2014\t1.69\n",
      "2015\t1.71\n",
      "2016\t1.79\n",
      "2017\t1.75\n",
      "2018\t1.73\n",
      "2019\t1.7\n",
      "2020\t1.67\n",
      "2021\t1.72\n",
      "2022\t1.55\n",
      "2023\t1.5\n"
     ]
    }
   ],
   "source": [
    "#Easier to understand fertility rates when expressed as babies pr. woman. ( How many  babies does the average woman have).\n",
    "\n",
    "# Convert Fertilityrate from babies pr. 1000 woman to babies pr. woman and round to 2 decimal places\n",
    "Alldata['Fertilityrate_per_woman'] = (Alldata['Fertilityrate'] / 1000).round(2)\n",
    "\n",
    "# Print the header\n",
    "print(\"Year\\tFertilityrate_per_woman\")\n",
    "\n",
    "# Print the year and the corresponding Fertilityrate_per_woman\n",
    "for year, fertility in zip(Alldata['Year'], Alldata['Fertilityrate_per_woman']):\n",
    "    print(f\"{year}\\t{fertility}\")\n",
    "\n",
    "#As seen below the fertility rate is consistently below 2.1 babies pr. woman, which is the number needed to sustain a constant population without immigration.\n",
    "    #Furthermore, there is quite a substantial drop of around 0.3 babies pr. woman from 2004 to 2023. Not possible to determine causes from these data alone.\n",
    "    #Unclear what the effects of low fertility rates are on economic growth. Could slow growth if less people born means less new ideas produced."
   ]
  },
  {
   "cell_type": "code",
   "execution_count": null,
   "metadata": {},
   "outputs": [],
   "source": [
    "#Conclusion"
   ]
  },
  {
   "cell_type": "markdown",
   "metadata": {},
   "source": [
    "# Read and clean data"
   ]
  },
  {
   "cell_type": "markdown",
   "metadata": {},
   "source": [
    "Import your data, either through an API or manually, and load it. "
   ]
  },
  {
   "cell_type": "markdown",
   "metadata": {},
   "source": [
    "## Explore each data set"
   ]
  },
  {
   "cell_type": "markdown",
   "metadata": {},
   "source": [
    "In order to be able to **explore the raw data**, you may provide **static** and **interactive plots** to show important developments "
   ]
  },
  {
   "cell_type": "markdown",
   "metadata": {},
   "source": [
    "**Interactive plot** :"
   ]
  },
  {
   "cell_type": "code",
   "execution_count": null,
   "metadata": {},
   "outputs": [
    {
     "data": {
      "application/vnd.jupyter.widget-view+json": {
       "model_id": "5c351241b05b4b5ea0d12c18d1cd9d85",
       "version_major": 2,
       "version_minor": 0
      },
      "text/plain": [
       "interactive(children=(Output(),), _dom_classes=('widget-interact',))"
      ]
     },
     "metadata": {},
     "output_type": "display_data"
    }
   ],
   "source": [
    "def plot_func():\n",
    "    # Function that operates on data set\n",
    "    pass\n",
    "\n",
    "widgets.interact(plot_func, \n",
    "    # Let the widget interact with data through plot_func()    \n",
    "); \n"
   ]
  },
  {
   "cell_type": "markdown",
   "metadata": {},
   "source": [
    "Explain what you see when moving elements of the interactive plot around. "
   ]
  },
  {
   "cell_type": "markdown",
   "metadata": {},
   "source": [
    "# Merge data sets"
   ]
  },
  {
   "cell_type": "markdown",
   "metadata": {},
   "source": [
    "Now you create combinations of your loaded data sets. Remember the illustration of a (inner) **merge**:"
   ]
  },
  {
   "cell_type": "code",
   "execution_count": null,
   "metadata": {},
   "outputs": [
    {
     "data": {
      "image/png": "[encoded data removed]",
      "text/plain": [
       "<Figure size 1080x504 with 1 Axes>"
      ]
     },
     "metadata": {},
     "output_type": "display_data"
    }
   ],
   "source": [
    "plt.figure(figsize=(15,7))\n",
    "v = venn2(subsets = (4, 4, 10), set_labels = ('Data X', 'Data Y'))\n",
    "v.get_label_by_id('100').set_text('dropped')\n",
    "v.get_label_by_id('010').set_text('dropped' )\n",
    "v.get_label_by_id('110').set_text('included')\n",
    "plt.show()"
   ]
  },
  {
   "cell_type": "markdown",
   "metadata": {},
   "source": [
    "Here we are dropping elements from both data set X and data set Y. A left join would keep all observations in data X intact and subset only from Y. \n",
    "\n",
    "Make sure that your resulting data sets have the correct number of rows and columns. That is, be clear about which observations are thrown away. \n",
    "\n",
    "**Note:** Don't make Venn diagrams in your own data project. It is just for exposition. "
   ]
  },
  {
   "cell_type": "markdown",
   "metadata": {},
   "source": [
    "# Analysis"
   ]
  },
  {
   "cell_type": "markdown",
   "metadata": {},
   "source": [
    "To get a quick overview of the data, we show some **summary statistics** on a meaningful aggregation. "
   ]
  },
  {
   "cell_type": "markdown",
   "metadata": {},
   "source": [
    "MAKE FURTHER ANALYSIS. EXPLAIN THE CODE BRIEFLY AND SUMMARIZE THE RESULTS."
   ]
  },
  {
   "cell_type": "markdown",
   "metadata": {},
   "source": [
    "# Conclusion"
   ]
  },
  {
   "cell_type": "markdown",
   "metadata": {},
   "source": [
    "ADD CONCISE CONLUSION."
   ]
  }
 ],
 "metadata": {
  "kernelspec": {
   "display_name": "base",
   "language": "python",
   "name": "python3"
  },
  "language_info": {
   "codemirror_mode": {
    "name": "ipython",
    "version": 3
   },
   "file_extension": ".py",
   "mimetype": "text/x-python",
   "name": "python",
   "nbconvert_exporter": "python",
   "pygments_lexer": "ipython3",
   "version": "3.9.18"
  },
  "toc-autonumbering": true,
  "vscode": {
   "interpreter": {
    "hash": "47ef90cdf3004d3f859f1fb202523c65c07ba7c22eefd261b181f4744e2d0403"
   }
  }
 },
 "nbformat": 4,
 "nbformat_minor": 4
}
